{
  "nbformat": 4,
  "nbformat_minor": 0,
  "metadata": {
    "colab": {
      "name": "Vine_Review_Analysis.ipynb",
      "provenance": [],
      "collapsed_sections": []
    },
    "kernelspec": {
      "name": "python3",
      "display_name": "Python 3"
    },
    "language_info": {
      "name": "python"
    }
  },
  "cells": [
    {
      "cell_type": "code",
      "execution_count": null,
      "metadata": {
        "colab": {
          "base_uri": "https://localhost:8080/"
        },
        "id": "u5nx8FAK0LLl",
        "outputId": "766564c6-a94d-4cee-96f2-355eef028ffa"
      },
      "outputs": [
        {
          "output_type": "stream",
          "name": "stdout",
          "text": [
            "Get:1 https://cloud.r-project.org/bin/linux/ubuntu bionic-cran40/ InRelease [3,626 B]\n",
            "Ign:2 https://developer.download.nvidia.com/compute/cuda/repos/ubuntu1804/x86_64  InRelease\n",
            "Ign:3 https://developer.download.nvidia.com/compute/machine-learning/repos/ubuntu1804/x86_64  InRelease\n",
            "Get:4 https://developer.download.nvidia.com/compute/cuda/repos/ubuntu1804/x86_64  Release [696 B]\n",
            "Hit:5 https://developer.download.nvidia.com/compute/machine-learning/repos/ubuntu1804/x86_64  Release\n",
            "Get:6 https://developer.download.nvidia.com/compute/cuda/repos/ubuntu1804/x86_64  Release.gpg [836 B]\n",
            "Hit:7 http://archive.ubuntu.com/ubuntu bionic InRelease\n",
            "Get:8 http://archive.ubuntu.com/ubuntu bionic-updates InRelease [88.7 kB]\n",
            "Get:9 http://ppa.launchpad.net/c2d4u.team/c2d4u4.0+/ubuntu bionic InRelease [15.9 kB]\n",
            "Get:10 http://security.ubuntu.com/ubuntu bionic-security InRelease [88.7 kB]\n",
            "Get:11 http://archive.ubuntu.com/ubuntu bionic-backports InRelease [74.6 kB]\n",
            "Hit:12 http://ppa.launchpad.net/cran/libgit2/ubuntu bionic InRelease\n",
            "Get:13 http://ppa.launchpad.net/deadsnakes/ppa/ubuntu bionic InRelease [15.9 kB]\n",
            "Hit:15 http://ppa.launchpad.net/graphics-drivers/ppa/ubuntu bionic InRelease\n",
            "Get:16 https://developer.download.nvidia.com/compute/cuda/repos/ubuntu1804/x86_64  Packages [953 kB]\n",
            "Get:17 http://ppa.launchpad.net/c2d4u.team/c2d4u4.0+/ubuntu bionic/main Sources [1,947 kB]\n",
            "Get:18 http://archive.ubuntu.com/ubuntu bionic-updates/universe amd64 Packages [2,268 kB]\n",
            "Get:19 http://archive.ubuntu.com/ubuntu bionic-updates/main amd64 Packages [3,134 kB]\n",
            "Get:20 http://ppa.launchpad.net/c2d4u.team/c2d4u4.0+/ubuntu bionic/main amd64 Packages [996 kB]\n",
            "Get:21 http://security.ubuntu.com/ubuntu bionic-security/universe amd64 Packages [1,490 kB]\n",
            "Get:22 http://ppa.launchpad.net/deadsnakes/ppa/ubuntu bionic/main amd64 Packages [45.3 kB]\n",
            "Get:23 http://security.ubuntu.com/ubuntu bionic-security/main amd64 Packages [2,695 kB]\n",
            "Fetched 13.8 MB in 7s (1,947 kB/s)\n",
            "Reading package lists... Done\n"
          ]
        }
      ],
      "source": [
        "import os\n",
        "# Find the latest version of spark 3.0 from http://www.apache.org/dist/spark/ and enter as the spark version\n",
        "# For example:\n",
        "# spark_version = 'spark-3.0.3'\n",
        "spark_version = 'spark-3.0.3'\n",
        "os.environ['SPARK_VERSION']=spark_version\n",
        "\n",
        "# Install Spark and Java\n",
        "!apt-get update\n",
        "!apt-get install openjdk-11-jdk-headless -qq > /dev/null\n",
        "!wget -q http://www.apache.org/dist/spark/$SPARK_VERSION/$SPARK_VERSION-bin-hadoop2.7.tgz\n",
        "!tar xf $SPARK_VERSION-bin-hadoop2.7.tgz\n",
        "!pip install -q findspark\n",
        "\n",
        "# Set Environment Variables\n",
        "import os\n",
        "os.environ[\"JAVA_HOME\"] = \"/usr/lib/jvm/java-11-openjdk-amd64\"\n",
        "os.environ[\"SPARK_HOME\"] = f\"/content/{spark_version}-bin-hadoop2.7\"\n",
        "\n",
        "# Start a SparkSession\n",
        "import findspark\n",
        "findspark.init()"
      ]
    },
    {
      "cell_type": "code",
      "source": [
        "# Start Spark session\n",
        "from pyspark.sql import SparkSession\n",
        "spark = SparkSession.builder.appName(\"M16-VineReviews\").getOrCreate()"
      ],
      "metadata": {
        "id": "YGfk4Hlw0org"
      },
      "execution_count": null,
      "outputs": []
    },
    {
      "cell_type": "code",
      "source": [
        "from pyspark import SparkFiles\n",
        "url = \"https://s3.amazonaws.com/amazon-reviews-pds/tsv/amazon_reviews_us_Sports_v1_00.tsv.gz\"\n",
        "spark.sparkContext.addFile(url)\n",
        "df = spark.read.option(\"encoding\", \"UTF-8\").csv(SparkFiles.get(\"\"), sep=\"\\t\", header=True, inferSchema=True)\n",
        "df.show()"
      ],
      "metadata": {
        "colab": {
          "base_uri": "https://localhost:8080/"
        },
        "id": "naaLmbXz1N1m",
        "outputId": "a0b47120-d5d1-462d-e17e-e5b5241a7610"
      },
      "execution_count": null,
      "outputs": [
        {
          "output_type": "stream",
          "name": "stdout",
          "text": [
            "+-----------+-----------+--------------+----------+--------------+--------------------+----------------+-----------+-------------+-----------+----+-----------------+--------------------+--------------------+-----------+\n",
            "|marketplace|customer_id|     review_id|product_id|product_parent|       product_title|product_category|star_rating|helpful_votes|total_votes|vine|verified_purchase|     review_headline|         review_body|review_date|\n",
            "+-----------+-----------+--------------+----------+--------------+--------------------+----------------+-----------+-------------+-----------+----+-----------------+--------------------+--------------------+-----------+\n",
            "|         US|   48945260|R1WBPB8MDCCN8F|B012P7UPSM|     409940130|Chicago Blackhawk...|          Sports|          5|            0|          0|   N|                N|   LOVE IT. 6 stars!|Bought this last ...| 2015-08-31|\n",
            "|         US|    5782091|R32M0YEWV77XG8|B001GQ3VHG|     657746679|Copag Poker Size ...|          Sports|          5|            1|          1|   N|                Y|       Shipped fast.|These are the bes...| 2015-08-31|\n",
            "|         US|   45813853| RR8V7WR27NXJ5|B008VS8M58|     962442336|Baoer 223 5.56x45...|          Sports|          1|            0|          0|   N|                Y|Good idea if it w...|It looks good, th...| 2015-08-31|\n",
            "|         US|    1593730|R1MHO5V9Z932AY|B005F06F4U|      74305227|All Terrain Tackl...|          Sports|          5|            0|          0|   N|                Y|          Five Stars|           Great jig| 2015-08-31|\n",
            "|         US|   29605511|R16PD71086BD2V|B010T4IE2C|     787185588|Swim Cap - 3 Pack...|          Sports|          5|            0|          1|   N|                N|Great quality sil...|I love swimming i...| 2015-08-31|\n",
            "|         US|   11112959|R1Z8IFGWTRWXT6|B004RKJGLS|      94127483|adidas Men's Spor...|          Sports|          3|            0|          0|   N|                Y|Love everything a...|Love everything a...| 2015-08-31|\n",
            "|         US|     108031|R3AUMSHAW73HWN|B005V3DCBU|     526977496|Nike Men's Perfor...|          Sports|          4|            2|          3|   N|                N|          Four Stars|not the best sock...| 2015-08-31|\n",
            "|         US|   13981540|R2KWDWFOHGX6FL|B00MHT9WN8|      26521265|Green Bay Packers...|          Sports|          5|            0|          0|   N|                Y|          Five Stars|             Love it| 2015-08-31|\n",
            "|         US|   37993909|R3H9543FWBWFBU|B001CSIRQ8|     652431165|Isokinetics Inc. ...|          Sports|          5|            1|          1|   N|                Y|can't wait to use it|Unfortunately I h...| 2015-08-31|\n",
            "|         US|   26040213| RUANXOQ9W3OU5|B001KZ3NOO|     635861713|Aottop Quality El...|          Sports|          5|            0|          0|   N|                Y|great product, ac...|fast shipping , g...| 2015-08-31|\n",
            "|         US|   34657602|R31673RTGEZSW7|B00005RCQS|      72099763|Everlast 2'x6' Fo...|          Sports|          5|            2|          2|   N|                Y|this mat is a pre...|If you have a ter...| 2015-08-31|\n",
            "|         US|   14346192|R22OQLFSH42RCM|B00FA7RWVI|     757354022|OGIO Men's Shredd...|          Sports|          5|            1|          1|   N|                Y|  Versatile Golf Bag|Love this golf ba...| 2015-08-31|\n",
            "|         US|   38782687|R12LEL4F3TSZUJ|B000MMH2HU|     272402599|Blue Sea Systems ...|          Sports|          5|            2|          2|   N|                Y|Great AC Main Bre...|Perfect mounting ...| 2015-08-31|\n",
            "|         US|   27138575|R2L9XWD03072NI|B00WJOATDS|     375070208|Zengi AR15 45 Deg...|          Sports|          5|            1|          2|   N|                Y|   Nice, some quirks|For the cost you ...| 2015-08-31|\n",
            "|         US|   11838771|R2K0U91HIACANO|B00BOM2JNY|     639666785|Black Mountain Pr...|          Sports|          5|            0|          0|   N|                N|55 cm - Good qual...|The ball is very ...| 2015-08-31|\n",
            "|         US|     535800|R29SP6MBT7MXG7|B00OD5GAFM|      38715442|Trijicon VCOG 1-6...|          Sports|          4|            3|          3|   N|                Y|    Very nice scope.|Very nice scope.....| 2015-08-31|\n",
            "|         US|   23156579|R31XREAAMATEPY|B00CAHDC1K|      57088652|Naruto Headband f...|          Sports|          5|            0|          0|   N|                Y|was for my son an...|           This item| 2015-08-31|\n",
            "|         US|   48107879|R2116AVB87SO38|B004NLHXLG|     114125984|Under Armour Men'...|          Sports|          5|            0|          0|   N|                Y|          Five Stars|greatest socks i ...| 2015-08-31|\n",
            "|         US|   27260960|R3RDVBB6O0X3HW|B00L7OANWI|     883962979|Yes4All Deep Tiss...|          Sports|          5|            0|          0|   N|                Y|          Five Stars|Perfect for home ...| 2015-08-31|\n",
            "|         US|   39537314|R3LW5T149LKKQM|B0085PPSIQ|     691479969|Lansky PS-MED01 B...|          Sports|          4|            0|          0|   N|                Y|A bit heavy for p...|Very good product...| 2015-08-31|\n",
            "+-----------+-----------+--------------+----------+--------------+--------------------+----------------+-----------+-------------+-----------+----+-----------------+--------------------+--------------------+-----------+\n",
            "only showing top 20 rows\n",
            "\n"
          ]
        }
      ]
    },
    {
      "cell_type": "code",
      "source": [
        "# Create the vine_table. DataFrame\n",
        "from pyspark.sql.functions import col\n",
        "from pyspark.sql.types import IntegerType\n",
        "df = df.withColumn(\"star_rating\",col(\"star_rating\").cast(IntegerType()))\n",
        "vine_df = df.select([\"review_id\", \"star_rating\", \"helpful_votes\", \"total_votes\", \"vine\", \"verified_purchase\"])\n",
        "vine_df.show()"
      ],
      "metadata": {
        "colab": {
          "base_uri": "https://localhost:8080/"
        },
        "id": "W33XateA10k9",
        "outputId": "2914f706-1900-4c57-9734-dcd160d69651"
      },
      "execution_count": null,
      "outputs": [
        {
          "output_type": "stream",
          "name": "stdout",
          "text": [
            "+--------------+-----------+-------------+-----------+----+-----------------+\n",
            "|     review_id|star_rating|helpful_votes|total_votes|vine|verified_purchase|\n",
            "+--------------+-----------+-------------+-----------+----+-----------------+\n",
            "|R1WBPB8MDCCN8F|          5|            0|          0|   N|                N|\n",
            "|R32M0YEWV77XG8|          5|            1|          1|   N|                Y|\n",
            "| RR8V7WR27NXJ5|          1|            0|          0|   N|                Y|\n",
            "|R1MHO5V9Z932AY|          5|            0|          0|   N|                Y|\n",
            "|R16PD71086BD2V|          5|            0|          1|   N|                N|\n",
            "|R1Z8IFGWTRWXT6|          3|            0|          0|   N|                Y|\n",
            "|R3AUMSHAW73HWN|          4|            2|          3|   N|                N|\n",
            "|R2KWDWFOHGX6FL|          5|            0|          0|   N|                Y|\n",
            "|R3H9543FWBWFBU|          5|            1|          1|   N|                Y|\n",
            "| RUANXOQ9W3OU5|          5|            0|          0|   N|                Y|\n",
            "|R31673RTGEZSW7|          5|            2|          2|   N|                Y|\n",
            "|R22OQLFSH42RCM|          5|            1|          1|   N|                Y|\n",
            "|R12LEL4F3TSZUJ|          5|            2|          2|   N|                Y|\n",
            "|R2L9XWD03072NI|          5|            1|          2|   N|                Y|\n",
            "|R2K0U91HIACANO|          5|            0|          0|   N|                N|\n",
            "|R29SP6MBT7MXG7|          4|            3|          3|   N|                Y|\n",
            "|R31XREAAMATEPY|          5|            0|          0|   N|                Y|\n",
            "|R2116AVB87SO38|          5|            0|          0|   N|                Y|\n",
            "|R3RDVBB6O0X3HW|          5|            0|          0|   N|                Y|\n",
            "|R3LW5T149LKKQM|          4|            0|          0|   N|                Y|\n",
            "+--------------+-----------+-------------+-----------+----+-----------------+\n",
            "only showing top 20 rows\n",
            "\n"
          ]
        }
      ]
    },
    {
      "cell_type": "code",
      "source": [
        "# Filter for reviews with >= 20 total votes\n",
        "most_votes_df = vine_df.filter(\"total_votes>=20\")\n",
        "most_votes_df.show()"
      ],
      "metadata": {
        "colab": {
          "base_uri": "https://localhost:8080/"
        },
        "id": "mjLvw_z82CUH",
        "outputId": "00e97200-4656-4dd8-c217-2ef7b4931db3"
      },
      "execution_count": null,
      "outputs": [
        {
          "output_type": "stream",
          "name": "stdout",
          "text": [
            "+--------------+-----------+-------------+-----------+----+-----------------+\n",
            "|     review_id|star_rating|helpful_votes|total_votes|vine|verified_purchase|\n",
            "+--------------+-----------+-------------+-----------+----+-----------------+\n",
            "|R1B4753QMTD8ON|          5|           32|         32|   N|                N|\n",
            "|R28BVHOEL6GCHZ|          5|           21|         21|   N|                Y|\n",
            "|R27IB4BRKO71I0|          2|           16|         20|   N|                Y|\n",
            "| RJ86OW12Y4NRL|          5|          124|        128|   N|                Y|\n",
            "|R3KRABOWCH6ZE4|          1|           48|         65|   N|                Y|\n",
            "|R1OAKARA30DIWX|          4|           83|         89|   N|                Y|\n",
            "|R36LSV4WQ4VB1K|          5|           17|         22|   N|                N|\n",
            "|R18BTOE5UGN7UA|          5|           26|         28|   N|                Y|\n",
            "|R1DXLGDSK2WMLD|          4|           22|         22|   N|                N|\n",
            "| RZG2OHQ12YYZI|          5|           30|         31|   N|                Y|\n",
            "|R1ZPBQCT4DYE4Z|          1|           45|         51|   N|                Y|\n",
            "|R16KLPJUNC9GS7|          5|           20|         21|   N|                Y|\n",
            "|R3Q0414UJO4BDO|          1|           23|         28|   N|                Y|\n",
            "| RDHDT1Z4R8IOF|          1|           18|         20|   N|                Y|\n",
            "|R10BO7KWZNBGL1|          4|           23|         24|   N|                Y|\n",
            "|R1H6DQ1UXL6K8U|          5|           86|         97|   N|                N|\n",
            "|R32OMS1LSDRCOB|          4|           27|         31|   Y|                N|\n",
            "|R1ABJ5P5XAZ9AW|          5|          174|        187|   N|                N|\n",
            "|R2RRFZ2YFSJ2OF|          5|           27|         27|   N|                Y|\n",
            "|R19G3LWRFBHDX3|          1|            4|         42|   N|                Y|\n",
            "+--------------+-----------+-------------+-----------+----+-----------------+\n",
            "only showing top 20 rows\n",
            "\n"
          ]
        }
      ]
    },
    {
      "cell_type": "code",
      "source": [
        "# Filter above df where helpful votes are >= 50% of total votes\n",
        "most_helpful_df = most_votes_df.filter(\"helpful_votes/total_votes>=0.5\")\n",
        "most_helpful_df.show()"
      ],
      "metadata": {
        "colab": {
          "base_uri": "https://localhost:8080/"
        },
        "id": "5OH2hPnf3Hnx",
        "outputId": "dac87d14-26de-4754-90cf-6d075d310782"
      },
      "execution_count": null,
      "outputs": [
        {
          "output_type": "stream",
          "name": "stdout",
          "text": [
            "+--------------+-----------+-------------+-----------+----+-----------------+\n",
            "|     review_id|star_rating|helpful_votes|total_votes|vine|verified_purchase|\n",
            "+--------------+-----------+-------------+-----------+----+-----------------+\n",
            "|R1B4753QMTD8ON|          5|           32|         32|   N|                N|\n",
            "|R28BVHOEL6GCHZ|          5|           21|         21|   N|                Y|\n",
            "|R27IB4BRKO71I0|          2|           16|         20|   N|                Y|\n",
            "| RJ86OW12Y4NRL|          5|          124|        128|   N|                Y|\n",
            "|R3KRABOWCH6ZE4|          1|           48|         65|   N|                Y|\n",
            "|R1OAKARA30DIWX|          4|           83|         89|   N|                Y|\n",
            "|R36LSV4WQ4VB1K|          5|           17|         22|   N|                N|\n",
            "|R18BTOE5UGN7UA|          5|           26|         28|   N|                Y|\n",
            "|R1DXLGDSK2WMLD|          4|           22|         22|   N|                N|\n",
            "| RZG2OHQ12YYZI|          5|           30|         31|   N|                Y|\n",
            "|R1ZPBQCT4DYE4Z|          1|           45|         51|   N|                Y|\n",
            "|R16KLPJUNC9GS7|          5|           20|         21|   N|                Y|\n",
            "|R3Q0414UJO4BDO|          1|           23|         28|   N|                Y|\n",
            "| RDHDT1Z4R8IOF|          1|           18|         20|   N|                Y|\n",
            "|R10BO7KWZNBGL1|          4|           23|         24|   N|                Y|\n",
            "|R1H6DQ1UXL6K8U|          5|           86|         97|   N|                N|\n",
            "|R32OMS1LSDRCOB|          4|           27|         31|   Y|                N|\n",
            "|R1ABJ5P5XAZ9AW|          5|          174|        187|   N|                N|\n",
            "|R2RRFZ2YFSJ2OF|          5|           27|         27|   N|                Y|\n",
            "| RJ0T139KDORXP|          5|           23|         24|   N|                Y|\n",
            "+--------------+-----------+-------------+-----------+----+-----------------+\n",
            "only showing top 20 rows\n",
            "\n"
          ]
        }
      ]
    },
    {
      "cell_type": "code",
      "source": [
        "# Filter above df where review was written as part of Vine program (vine == Y)\n",
        "yesvine_df = most_helpful_df.filter(most_helpful_df[\"vine\"] == \"Y\")\n",
        "yesvine_df.show()"
      ],
      "metadata": {
        "colab": {
          "base_uri": "https://localhost:8080/"
        },
        "id": "F3tRTvv24ai6",
        "outputId": "9a79b365-7af8-4a43-9224-84a5c90f14d9"
      },
      "execution_count": null,
      "outputs": [
        {
          "output_type": "stream",
          "name": "stdout",
          "text": [
            "+--------------+-----------+-------------+-----------+----+-----------------+\n",
            "|     review_id|star_rating|helpful_votes|total_votes|vine|verified_purchase|\n",
            "+--------------+-----------+-------------+-----------+----+-----------------+\n",
            "|R32OMS1LSDRCOB|          4|           27|         31|   Y|                N|\n",
            "|R2IPKK4I0XRCFR|          4|           16|         21|   Y|                N|\n",
            "| RXYYJ8SGI9IX6|          5|           36|         41|   Y|                N|\n",
            "|R1SAUBFC7T6JHC|          5|           73|         75|   Y|                N|\n",
            "|R329HVJKKHWSG3|          5|           59|         59|   Y|                N|\n",
            "| RZL21K50M52KW|          5|           22|         22|   Y|                N|\n",
            "|R24RC5J2D92SBE|          5|           19|         20|   Y|                N|\n",
            "|R1803HITBY7Y08|          4|           92|        104|   Y|                N|\n",
            "|R1888B8Z6QWYZ4|          4|           18|         25|   Y|                N|\n",
            "|R1S538NK2I5PRL|          5|           21|         22|   Y|                N|\n",
            "| RZDTBIS1289HJ|          5|           26|         28|   Y|                N|\n",
            "|R1MWLO2PFODMQ3|          5|           31|         32|   Y|                N|\n",
            "|R3O6EMC0ISQY92|          4|           25|         27|   Y|                N|\n",
            "|R1OGJY9TSNXXX3|          5|           19|         22|   Y|                N|\n",
            "| R3AOPWQNKJ6VE|          5|           25|         29|   Y|                N|\n",
            "|R1XJFRM9ANTVSZ|          4|           44|         46|   Y|                N|\n",
            "|R1VDF41NJMDGBT|          2|           23|         29|   Y|                N|\n",
            "|R2C0QDBA4NEEKD|          3|          173|        200|   Y|                N|\n",
            "|R3TUMV5DZL433H|          4|           29|         38|   Y|                N|\n",
            "| RVU1EA54INF9T|          5|           19|         21|   Y|                N|\n",
            "+--------------+-----------+-------------+-----------+----+-----------------+\n",
            "only showing top 20 rows\n",
            "\n"
          ]
        }
      ]
    },
    {
      "cell_type": "code",
      "source": [
        "# Filter above df where review was not written as part of Vine program (vine == N)\n",
        "novine_df = most_helpful_df.filter(most_helpful_df[\"vine\"] == \"N\")\n",
        "novine_df.show()"
      ],
      "metadata": {
        "colab": {
          "base_uri": "https://localhost:8080/"
        },
        "id": "vznDIeP95UUo",
        "outputId": "46be987a-54d7-4766-e900-de438db4a5cb"
      },
      "execution_count": null,
      "outputs": [
        {
          "output_type": "stream",
          "name": "stdout",
          "text": [
            "+--------------+-----------+-------------+-----------+----+-----------------+\n",
            "|     review_id|star_rating|helpful_votes|total_votes|vine|verified_purchase|\n",
            "+--------------+-----------+-------------+-----------+----+-----------------+\n",
            "|R1B4753QMTD8ON|          5|           32|         32|   N|                N|\n",
            "|R28BVHOEL6GCHZ|          5|           21|         21|   N|                Y|\n",
            "|R27IB4BRKO71I0|          2|           16|         20|   N|                Y|\n",
            "| RJ86OW12Y4NRL|          5|          124|        128|   N|                Y|\n",
            "|R3KRABOWCH6ZE4|          1|           48|         65|   N|                Y|\n",
            "|R1OAKARA30DIWX|          4|           83|         89|   N|                Y|\n",
            "|R36LSV4WQ4VB1K|          5|           17|         22|   N|                N|\n",
            "|R18BTOE5UGN7UA|          5|           26|         28|   N|                Y|\n",
            "|R1DXLGDSK2WMLD|          4|           22|         22|   N|                N|\n",
            "| RZG2OHQ12YYZI|          5|           30|         31|   N|                Y|\n",
            "|R1ZPBQCT4DYE4Z|          1|           45|         51|   N|                Y|\n",
            "|R16KLPJUNC9GS7|          5|           20|         21|   N|                Y|\n",
            "|R3Q0414UJO4BDO|          1|           23|         28|   N|                Y|\n",
            "| RDHDT1Z4R8IOF|          1|           18|         20|   N|                Y|\n",
            "|R10BO7KWZNBGL1|          4|           23|         24|   N|                Y|\n",
            "|R1H6DQ1UXL6K8U|          5|           86|         97|   N|                N|\n",
            "|R1ABJ5P5XAZ9AW|          5|          174|        187|   N|                N|\n",
            "|R2RRFZ2YFSJ2OF|          5|           27|         27|   N|                Y|\n",
            "| RJ0T139KDORXP|          5|           23|         24|   N|                Y|\n",
            "|R30MVK7HP2DW91|          5|           84|        124|   N|                Y|\n",
            "+--------------+-----------+-------------+-----------+----+-----------------+\n",
            "only showing top 20 rows\n",
            "\n"
          ]
        }
      ]
    },
    {
      "cell_type": "code",
      "source": [
        "# Total number of reviews (before filtering)\n",
        "vine_df.count()"
      ],
      "metadata": {
        "colab": {
          "base_uri": "https://localhost:8080/"
        },
        "id": "h9bepGel5pJ-",
        "outputId": "dad69409-8beb-42a5-9f8c-5886c9719209"
      },
      "execution_count": null,
      "outputs": [
        {
          "output_type": "execute_result",
          "data": {
            "text/plain": [
              "4850360"
            ]
          },
          "metadata": {},
          "execution_count": 13
        }
      ]
    },
    {
      "cell_type": "code",
      "source": [
        "# Total number of reviews meeting criteria (total_votes>=20 & helpful_votes >= 50% of total_votes)\n",
        "most_helpful_df.count()"
      ],
      "metadata": {
        "colab": {
          "base_uri": "https://localhost:8080/"
        },
        "id": "kuvz_wzb6oFG",
        "outputId": "6e088489-94b3-4142-8008-4da7d44fe8a6"
      },
      "execution_count": null,
      "outputs": [
        {
          "output_type": "execute_result",
          "data": {
            "text/plain": [
              "61948"
            ]
          },
          "metadata": {},
          "execution_count": 14
        }
      ]
    },
    {
      "cell_type": "code",
      "source": [
        "# Total number of 5-star reviews from most_helpful dataframe\n",
        "most_helpful_df.filter(\"star_rating=5\").count()"
      ],
      "metadata": {
        "colab": {
          "base_uri": "https://localhost:8080/"
        },
        "id": "XgTvnnub7H3j",
        "outputId": "59e16d82-ae05-49a1-869b-5c5a350033e5"
      },
      "execution_count": null,
      "outputs": [
        {
          "output_type": "execute_result",
          "data": {
            "text/plain": [
              "32804"
            ]
          },
          "metadata": {},
          "execution_count": 16
        }
      ]
    },
    {
      "cell_type": "code",
      "source": [
        "# Overall percentage of 5-star reviews from most_helpful dataframe\n",
        "most_helpful_df.filter(\"star_rating=5\").count()/most_helpful_df.count()*100"
      ],
      "metadata": {
        "colab": {
          "base_uri": "https://localhost:8080/"
        },
        "id": "8-_IQ3HQ9Mz3",
        "outputId": "b99c3d33-3984-4505-d0e5-b445186a7c4f"
      },
      "execution_count": null,
      "outputs": [
        {
          "output_type": "execute_result",
          "data": {
            "text/plain": [
              "52.95409052753922"
            ]
          },
          "metadata": {},
          "execution_count": 22
        }
      ]
    },
    {
      "cell_type": "code",
      "source": [
        "# Total number of Vine reviews\n",
        "yesvine_df.count()"
      ],
      "metadata": {
        "colab": {
          "base_uri": "https://localhost:8080/"
        },
        "id": "8PEa1p4QA_Bp",
        "outputId": "628c82e4-8dff-4571-e0d6-c0c87bb1d799"
      },
      "execution_count": 25,
      "outputs": [
        {
          "output_type": "execute_result",
          "data": {
            "text/plain": [
              "334"
            ]
          },
          "metadata": {},
          "execution_count": 25
        }
      ]
    },
    {
      "cell_type": "code",
      "source": [
        "# Total number of Vine 5-star reviews\n",
        "yesvine_df.filter(\"star_rating=5\").count()"
      ],
      "metadata": {
        "colab": {
          "base_uri": "https://localhost:8080/"
        },
        "id": "3vgHg7NDA_O8",
        "outputId": "352b6174-693d-46de-c388-5ae0aa2fe005"
      },
      "execution_count": 26,
      "outputs": [
        {
          "output_type": "execute_result",
          "data": {
            "text/plain": [
              "139"
            ]
          },
          "metadata": {},
          "execution_count": 26
        }
      ]
    },
    {
      "cell_type": "code",
      "source": [
        "# Percentage of paid ratings that are 5 starts\n",
        "yesvine_df.filter(\"star_rating=5\").count()/yesvine_df.count()*100"
      ],
      "metadata": {
        "colab": {
          "base_uri": "https://localhost:8080/"
        },
        "id": "7J-KuOPw7yf9",
        "outputId": "db9cc0aa-31f9-464f-aacf-1e67deb2928c"
      },
      "execution_count": null,
      "outputs": [
        {
          "output_type": "execute_result",
          "data": {
            "text/plain": [
              "41.61676646706587"
            ]
          },
          "metadata": {},
          "execution_count": 23
        }
      ]
    },
    {
      "cell_type": "code",
      "source": [
        "# Total number of non-Vine reviews\n",
        "novine_df.count()"
      ],
      "metadata": {
        "colab": {
          "base_uri": "https://localhost:8080/"
        },
        "id": "Nu4yao56BUxr",
        "outputId": "825164f0-cc86-40c4-d769-445d6d0da3dd"
      },
      "execution_count": 27,
      "outputs": [
        {
          "output_type": "execute_result",
          "data": {
            "text/plain": [
              "61614"
            ]
          },
          "metadata": {},
          "execution_count": 27
        }
      ]
    },
    {
      "cell_type": "code",
      "source": [
        "# Total number of non-Vine 5-star reviews\n",
        "novine_df.filter(\"star_rating=5\").count()"
      ],
      "metadata": {
        "colab": {
          "base_uri": "https://localhost:8080/"
        },
        "id": "n502WBYCBU6d",
        "outputId": "5a07e6f0-252a-466a-d2b9-73e460015902"
      },
      "execution_count": 28,
      "outputs": [
        {
          "output_type": "execute_result",
          "data": {
            "text/plain": [
              "32665"
            ]
          },
          "metadata": {},
          "execution_count": 28
        }
      ]
    },
    {
      "cell_type": "code",
      "source": [
        "# Percentage of unpaid ratings that are 5 starts\n",
        "novine_df.filter(\"star_rating=5\").count()/novine_df.count()*100"
      ],
      "metadata": {
        "colab": {
          "base_uri": "https://localhost:8080/"
        },
        "id": "mKhVptTV98bd",
        "outputId": "0e1a8839-8f5d-4081-b8d4-ae43bca7e56a"
      },
      "execution_count": null,
      "outputs": [
        {
          "output_type": "execute_result",
          "data": {
            "text/plain": [
              "53.01554841432142"
            ]
          },
          "metadata": {},
          "execution_count": 24
        }
      ]
    }
  ]
}